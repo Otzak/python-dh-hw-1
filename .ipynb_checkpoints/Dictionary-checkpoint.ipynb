{
 "cells": [
  {
   "cell_type": "code",
   "execution_count": null,
   "metadata": {},
   "outputs": [
    {
     "name": "stdout",
     "output_type": "stream",
     "text": [
      "Оля\n",
      "Имя отсутствует в адресном листе.\n"
     ]
    }
   ],
   "source": [
    "x = str(input())\n",
    "numbers = {\"Вася\": 1234567, \"Маша\": 8901234, \"Петя\": 5678901}\n",
    "if x in numbers:\n",
    "    print(numbers.get(x))\n",
    "else:\n",
    "    print(\"Имя отсутствует в адресном листе.\")\n",
    "    numbers[x] = numbers.get(x, int(input(\"Введите номер телефона:\\n\")))\n",
    "    print(numbers)\n",
    "\n"
   ]
  },
  {
   "cell_type": "code",
   "execution_count": null,
   "metadata": {},
   "outputs": [],
   "source": []
  }
 ],
 "metadata": {
  "kernelspec": {
   "display_name": "Python 3",
   "language": "python",
   "name": "python3"
  },
  "language_info": {
   "codemirror_mode": {
    "name": "ipython",
    "version": 3
   },
   "file_extension": ".py",
   "mimetype": "text/x-python",
   "name": "python",
   "nbconvert_exporter": "python",
   "pygments_lexer": "ipython3",
   "version": "3.6.5"
  }
 },
 "nbformat": 4,
 "nbformat_minor": 2
}
