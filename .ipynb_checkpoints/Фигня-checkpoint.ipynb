{
 "cells": [
  {
   "cell_type": "code",
   "execution_count": 24,
   "metadata": {},
   "outputs": [
    {
     "name": "stdout",
     "output_type": "stream",
     "text": [
      "C:\\Users\\Юлия\\Desktop\\poems\n",
      "['poems.txt', 'боль.txt', 'ворон.txt', 'деды.txt', 'кладь.txt', 'котики', 'ночь.txt', 'сказки', 'шредингер.txt']\n",
      "7\n",
      "\n"
     ]
    }
   ],
   "source": [
    "import os #импортируем модуль\n",
    "os.chdir ('C:/Users/Юлия/Desktop/poems')\n",
    "print (os.getcwd()) #распечатываем текущую директорию\n",
    "print (os.listdir()) #расмечатываем список объектов в текущей директории\n",
    "print (len([file for file in os.listdir('.') if os.path.isfile(file)]))\n",
    "with open ('poems.txt', 'a', encoding='utf-8') as f: #создаем новый текстовый файл\n",
    "    for root, dirs, files in os.walk('.'):\n",
    "        if os.path.isfile(file):\n",
    "            with open(file,'r',encoding='utf-8') as x:\n",
    "                x = x.read()\n",
    "                f.write (x + '\\n')\n",
    "        elif os.path.isdir(dir):\n",
    "            for file in dir:\n",
    "                if os.path.isfile(file):\n",
    "                    with open(file,'r',encoding='utf-8') as x:\n",
    "                        x = x.read()\n",
    "                        f.write (x + '\\n')\n",
    "with open ('poems.txt','r',encoding='utf-8') as q:\n",
    "    print (q.read())"
   ]
  },
  {
   "cell_type": "code",
   "execution_count": 23,
   "metadata": {},
   "outputs": [
    {
     "name": "stdout",
     "output_type": "stream",
     "text": [
      "\n"
     ]
    }
   ],
   "source": [
    "with open ('poems.txt', 'a', encoding='utf-8') as f: #создаем новый текстовый файл\n",
    "    for root, dirs, files in os.walk('.'):\n",
    "        if os.path.isfile(file):\n",
    "            with open(file,'r',encoding='utf-8') as x:\n",
    "                x = x.read()\n",
    "                f.write (x + '\\n')\n",
    "        elif os.path.isdir(dir):\n",
    "            for file in dir:\n",
    "                if os.path.isfile(file):\n",
    "                    with open(file,'r',encoding='utf-8') as x:\n",
    "                        x = x.read()\n",
    "                        f.write (x + '\\n')\n",
    "with open ('poems.txt','r',encoding='utf-8') as q:\n",
    "    print (q.read())"
   ]
  }
 ],
 "metadata": {
  "kernelspec": {
   "display_name": "Python 3",
   "language": "python",
   "name": "python3"
  },
  "language_info": {
   "codemirror_mode": {
    "name": "ipython",
    "version": 3
   },
   "file_extension": ".py",
   "mimetype": "text/x-python",
   "name": "python",
   "nbconvert_exporter": "python",
   "pygments_lexer": "ipython3",
   "version": "3.7.0"
  }
 },
 "nbformat": 4,
 "nbformat_minor": 2
}
