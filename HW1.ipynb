{
 "cells": [
  {
   "cell_type": "code",
   "execution_count": 1,
   "metadata": {},
   "outputs": [
    {
     "name": "stdout",
     "output_type": "stream",
     "text": [
      "6\n",
      "  _~_     _~_     _~_     _~_     _~_     _~_   \n",
      " (o o)   (o o)   (o o)   (o o)   (o o)   (o o)  \n",
      " / V \\   / V \\   / V \\   / V \\   / V \\   / V \\  \n",
      "/( _ )\\ /( _ )\\ /( _ )\\ /( _ )\\ /( _ )\\ /( _ )\\ \n",
      " ^^ ^^   ^^ ^^   ^^ ^^   ^^ ^^   ^^ ^^   ^^ ^^  \n"
     ]
    }
   ],
   "source": [
    "i = int(input()) \n",
    "a = '  _~_   ' \n",
    "b = ' (o o)  ' \n",
    "c = ' / V \\\\  ' \n",
    "d = '/( _ )\\\\ ' \n",
    "e = ' ^^ ^^  ' \n",
    "print(i*a) \n",
    "print(i*b) \n",
    "print(i*c) \n",
    "print(i*d)\n",
    "print(i*e)"
   ]
  },
  {
   "cell_type": "code",
   "execution_count": 30,
   "metadata": {},
   "outputs": [
    {
     "name": "stdout",
     "output_type": "stream",
     "text": [
      "Количество символов: 6\n",
      "Количество слов: 29\n"
     ]
    }
   ],
   "source": [
    "x = 'This web is craving the world' \n",
    "sentence = x.split() \n",
    "print(\"Количество символов: %s\" % len(sentence))\n",
    "print(\"Количество слов: %s\" % len(x))\n",
    "\n"
   ]
  },
  {
   "cell_type": "code",
   "execution_count": 28,
   "metadata": {},
   "outputs": [
    {
     "name": "stdout",
     "output_type": "stream",
     "text": [
      "i\n",
      "r\n",
      "This \n",
      "This web is craving the world and it consumes it wanting mo\n",
      "hswbi rvn h ol n tcnue twnigmr\n",
      "Ti e scaigtewrdadi osmsi atn oe\n",
      "erom gnitnaw ti semusnoc ti dna dlrow eht gnivarc si bew sihT\n",
      "eo nta ismso idadrwetgiacs e iT\n",
      "61\n"
     ]
    }
   ],
   "source": [
    "x = \"This web is craving the world and it consumes it wanting more\" \n",
    "letters = list(x) \n",
    "A = \"\".join(letters[2]) \n",
    "print(A) \n",
    "B = \"\".join(letters[-2]) \n",
    "print(B) \n",
    "C = \"\".join(letters[0:5]) \n",
    "print(C) \n",
    "D = \"\".join(letters[:-2]) \n",
    "print(D) \n",
    "E = \"\".join(letters[1::2]) \n",
    "print(E) \n",
    "F = \"\".join(letters[::2]) \n",
    "print(F) \n",
    "G = \"\".join(letters[::-1]) \n",
    "print(G) \n",
    "H = \"\".join(letters[::-2]) \n",
    "print(H) \n",
    "print(len(x))\n"
   ]
  },
  {
   "cell_type": "code",
   "execution_count": 11,
   "metadata": {},
   "outputs": [
    {
     "name": "stdout",
     "output_type": "stream",
     "text": [
      "abba\n",
      "YES\n"
     ]
    }
   ],
   "source": [
    "a = str(input()) \n",
    "b = a[::-1]\n",
    "if a == b:\n",
    "    print(\"YES\")\n",
    "else:\n",
    "    print(\"NO\")\n"
   ]
  },
  {
   "cell_type": "code",
   "execution_count": 2,
   "metadata": {},
   "outputs": [
    {
     "name": "stdout",
     "output_type": "stream",
     "text": [
      "будет\n",
      "Слово будет встречается в тексте 4 раз\n"
     ]
    }
   ],
   "source": [
    "text = '''законы физики рядом с черной дырой уже не работают в том представлении в котором мы привыкли \n",
    "пространство время искривляется и все события протекают уже совсем по другому \n",
    "словно пылесос черная дыра поглощает все что находится около нее планеты астероиды свет и прочее \n",
    "ранее считалось что черная дыра ничего не излучает но как доказал стивен хокинг черная дыра излучает антивещество \n",
    "то есть поедает вещество и выделяет антивещество \n",
    "ранее думали что если кинуть в черную дыру человека то ему труба порвет на субатомы \n",
    "но как оказалось по некоторым уравнениям есть определенные траектории путешествия сквозь черную дыру чтоб чувствовать себя нормально \n",
    "правда не ясно что будет за ней другой мир или ничего \n",
    "область вокруг черной дыры которая интересна называется горизонтом событий \n",
    "если туда полететь не зная волшебное уравнение то будет конечно не очень \n",
    "наблюдатель будет видеть как космический корабль влетает в горизонт событий и крайне медленно потом отдаляется пока не застынет в центре\n",
    "у самого же космонавта дела будут идти совсем по другому \n",
    "искривленное пространство будет лепить из него как из пластилина различные формы пока наконец не разорвет все на субатомы \n",
    "но для внешнего наблюдателя космонавт навсегда останется улыбающимся и махающим в иллюминатор застывшим изображением'''\n",
    "i = str(input())\n",
    "textsplit = text.split() \n",
    "x = textsplit.count(i) \n",
    "if i in textsplit:\n",
    "    print(\"Слово \" + (i) + \" встречается в тексте %s\" % (x) + \" раз\")\n",
    "else:\n",
    "    print(\"Слово \" + (i) + \" добавлено\")\n",
    "    textsplit.append(i)\n",
    "    \n",
    "\n"
   ]
  }
 ],
 "metadata": {
  "kernelspec": {
   "display_name": "Python 3",
   "language": "python",
   "name": "python3"
  },
  "language_info": {
   "codemirror_mode": {
    "name": "ipython",
    "version": 3
   },
   "file_extension": ".py",
   "mimetype": "text/x-python",
   "name": "python",
   "nbconvert_exporter": "python",
   "pygments_lexer": "ipython3",
   "version": "3.6.5"
  }
 },
 "nbformat": 4,
 "nbformat_minor": 2
}
