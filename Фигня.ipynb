{
 "cells": [
  {
   "cell_type": "code",
   "execution_count": 14,
   "metadata": {},
   "outputs": [
    {
     "name": "stdout",
     "output_type": "stream",
     "text": [
      "C:\\Users\\Юлия\\Desktop\\poems\n",
      "7\n",
      "poems.txt\n",
      "боль.txt\n",
      "ворон.txt\n",
      "деды.txt\n",
      "кладь.txt\n",
      "котики\n",
      "ночь.txt\n",
      "сказки\n",
      "шредингер.txt\n",
      "\n",
      "а боль у вас какого рода \n",
      "спросил дежурный врач а я \n",
      "как на духу она ответил \n",
      "моя\n",
      "американский чорный ворон \n",
      "как наш красив и голосист \n",
      "но попроси не виться сразу \n",
      "расист\n",
      "на спиритическом сеансе \n",
      "желая водки и еды \n",
      "привычно вызывали духов \n",
      "деды \n",
      "мы б вас охотно пропустили \n",
      "с ручною кладью но пока \n",
      "она у вас недопустимо \n",
      "дика \n",
      "ночь улица фонарь аптека \n",
      "вдруг вспомнил что утюг включон \n",
      "акетпа ираноф ацилу \n",
      "и ьчон\n",
      "приходит муж домой пораньше \n",
      "измену в нём предположив \n",
      "а шрёдингер в шкафу не мёртв и \n",
      "не жив\n",
      "\n"
     ]
    }
   ],
   "source": [
    "import os #импортируем модуль\n",
    "os.chdir (r'C:/Users/Юлия/Desktop/poems')\n",
    "print (os.getcwd()) #распечатываем текущую директорию\n",
    "print (len([file for file in os.listdir('.') if os.path.isfile(file)])) #узнаем количество объектов, которые являются файлами\n",
    "for file in os.listdir ('.'): #проходимся циклом по директории и распечатываем список всех файлов\n",
    "    print (file)\n",
    "with open ('poems.txt','w',encoding='utf-8') as f:\n",
    "    for root, dirs, files in os.walk('.'):\n",
    "        for file in files:\n",
    "            if os.path.exists(file):\n",
    "                with open(file,'r',encoding='utf-8') as name:\n",
    "                    name = name.read()\n",
    "                    f.write (name + '\\n')\n",
    "with open ('poems.txt','r',encoding='utf-8') as q:\n",
    "    print (q.read())\n",
    "for "
   ]
  },
  {
   "cell_type": "code",
   "execution_count": null,
   "metadata": {},
   "outputs": [],
   "source": []
  }
 ],
 "metadata": {
  "kernelspec": {
   "display_name": "Python 3",
   "language": "python",
   "name": "python3"
  },
  "language_info": {
   "codemirror_mode": {
    "name": "ipython",
    "version": 3
   },
   "file_extension": ".py",
   "mimetype": "text/x-python",
   "name": "python",
   "nbconvert_exporter": "python",
   "pygments_lexer": "ipython3",
   "version": "3.6.5"
  }
 },
 "nbformat": 4,
 "nbformat_minor": 2
}
