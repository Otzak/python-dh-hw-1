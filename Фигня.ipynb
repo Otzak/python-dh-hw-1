{
 "cells": [
  {
   "cell_type": "code",
   "execution_count": 33,
   "metadata": {},
   "outputs": [
    {
     "ename": "SyntaxError",
     "evalue": "invalid syntax (<ipython-input-33-a9bb006efc33>, line 5)",
     "output_type": "error",
     "traceback": [
      "\u001b[1;36m  File \u001b[1;32m\"<ipython-input-33-a9bb006efc33>\"\u001b[1;36m, line \u001b[1;32m5\u001b[0m\n\u001b[1;33m    for file in os.listdir('.'): #проходимся циклом по директории и распечатываем список всех файлов\u001b[0m\n\u001b[1;37m                               ^\u001b[0m\n\u001b[1;31mSyntaxError\u001b[0m\u001b[1;31m:\u001b[0m invalid syntax\n"
     ]
    }
   ],
   "source": [
    "import os #импортируем модуль\n",
    "os.chdir ('C:/Users/Юлия/Desktop/poems')\n",
    "print (os.getcwd()) #распечатываем текущую директорию\n",
    "print (len(os.listdir())\n",
    "for file in os.listdir('.'): #проходимся циклом по директории и распечатываем список всех файлов\n",
    "    print (file)\n",
    "with open ('poems.txt','w',encoding='utf-8') as f:\n",
    "    for root, dirs, files in os.walk('.'):\n",
    "        for file in files:\n",
    "            if os.path.exists(file):\n",
    "                with open(file,'r',encoding='utf-8') as name:\n",
    "                    name = name.read()\n",
    "    f.write (name + '\\n')\n",
    "with open ('poems.txt','r',encoding='utf-8') as q:\n",
    "       print (q.read())"
   ]
  },
  {
   "cell_type": "code",
   "execution_count": null,
   "metadata": {},
   "outputs": [],
   "source": []
  }
 ],
 "metadata": {
  "kernelspec": {
   "display_name": "Python 3",
   "language": "python",
   "name": "python3"
  },
  "language_info": {
   "codemirror_mode": {
    "name": "ipython",
    "version": 3
   },
   "file_extension": ".py",
   "mimetype": "text/x-python",
   "name": "python",
   "nbconvert_exporter": "python",
   "pygments_lexer": "ipython3",
   "version": "3.6.5"
  }
 },
 "nbformat": 4,
 "nbformat_minor": 2
}
