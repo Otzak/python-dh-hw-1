{
 "cells": [
  {
   "cell_type": "code",
   "execution_count": 14,
   "metadata": {},
   "outputs": [
    {
     "name": "stdout",
     "output_type": "stream",
     "text": [
      "C:\\Users\\Юлия\\Desktop\\poems\n",
      "['боль.txt', 'ворон.txt', 'деды.txt', 'кладь.txt', 'котики', 'ночь.txt', 'сказки', 'шредингер.txt']\n",
      "6\n",
      "а боль у вас какого рода \n",
      "спросил дежурный врач а я \n",
      "как на духу она ответил \n",
      "мояамериканский чорный ворон \n",
      "как наш красив и голосист \n",
      "но попроси не виться сразу \n",
      "расистна спиритическом сеансе \n",
      "желая водки и еды \n",
      "привычно вызывали духов \n",
      "деды мы б вас охотно пропустили \n",
      "с ручною кладью но пока \n",
      "она у вас недопустимо \n",
      "дика ночь улица фонарь аптека \n",
      "вдруг вспомнил что утюг включон \n",
      "акетпа ираноф ацилу \n",
      "и ьчонприходит муж домой пораньше \n",
      "измену в нём предположив \n",
      "а шрёдингер в шкафу не мёртв и \n",
      "не живкот по цепи идёт направо \n",
      "и упирается в щиток \n",
      "а от щитка идя налево \n",
      "он токзагримирован под медведя \n",
      "кот гнал ди каприо по льду \n",
      "и все кричали оскар лео \n",
      "польду пушок пушок кричит хозяйка \n",
      "а мы сидим невдалеке \n",
      "и ухмыляемся а рыльца \n",
      "в пушкеидут по лесу братья гриммы \n",
      "и вырубают топором \n",
      "всех тех кто был уже написан \n",
      "перром третьеразрядный королевич \n",
      "побил дракона как герой \n",
      "царевну вызволил и сдал на \n",
      "второй на платье новое дивится \n",
      "и восторгается страна \n",
      "вдруг кто то крикнул а король то \n",
      "онаа если принц тебя обидит \n",
      "поверь тогда ему конец \n",
      "ведь я не крёстная а крёстный \n",
      "отецклюку на рынке выбирая \n",
      "яга сказала дайте две \n",
      "я кэмээс по скандинавской \n",
      "ходьбе\n"
     ]
    }
   ],
   "source": [
    "import os #импортируем модуль\n",
    "os.chdir (r'C:/Users/Юлия/Desktop/poems')\n",
    "print(os.getcwd()) #распечатываем текущую директорию\n",
    "print(os.listdir()) #расмечатываем список объектов в текущей директории\n",
    "print(len([file for file in os.listdir('.') if os.path.isfile(file)]))\n",
    "with open('poems.txt', 'a', encoding='utf-8') as name:\n",
    "    for (dirpath, dirnames, filenames) in os.walk('.'):\n",
    "        for filename in filenames:\n",
    "            with open(os.path.join(dirpath, filename), 'r', encoding='utf-8') as file_data: \n",
    "                file_data = file_data.read()\n",
    "                name.write(file_data)\n",
    "with open('poems.txt','r',encoding='utf-8') as m:\n",
    "    print(m.read())"
   ]
  }
 ],
 "metadata": {
  "kernelspec": {
   "display_name": "Python 3",
   "language": "python",
   "name": "python3"
  },
  "language_info": {
   "codemirror_mode": {
    "name": "ipython",
    "version": 3
   },
   "file_extension": ".py",
   "mimetype": "text/x-python",
   "name": "python",
   "nbconvert_exporter": "python",
   "pygments_lexer": "ipython3",
   "version": "3.7.0"
  }
 },
 "nbformat": 4,
 "nbformat_minor": 2
}
